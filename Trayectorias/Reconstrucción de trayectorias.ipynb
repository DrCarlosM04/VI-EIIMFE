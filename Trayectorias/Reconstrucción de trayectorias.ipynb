{
 "cells": [
  {
   "cell_type": "markdown",
   "id": "canadian-danish",
   "metadata": {},
   "source": [
    "# Seguimiento de partículas y reconstrucción de trayectorias"
   ]
  },
  {
   "cell_type": "markdown",
   "id": "interim-insight",
   "metadata": {},
   "source": [
    "Importar librerías necesarias"
   ]
  },
  {
   "cell_type": "code",
   "execution_count": 1,
   "id": "impressive-cycle",
   "metadata": {},
   "outputs": [],
   "source": [
    "import pandas as pd\n",
    "import numpy as np\n",
    "import matplotlib.pyplot as plt\n",
    "from ParticleTracker import p_tracker\n",
    "from TrajectoryPlot import TrajPlot"
   ]
  },
  {
   "cell_type": "markdown",
   "id": "knowing-stage",
   "metadata": {},
   "source": [
    "Ejecutar la rutina de seguimiento de partículas"
   ]
  },
  {
   "cell_type": "code",
   "execution_count": 2,
   "id": "representative-success",
   "metadata": {},
   "outputs": [
    {
     "name": "stdout",
     "output_type": "stream",
     "text": [
      "\n",
      "\n",
      "                     #####################################\n",
      "                     #                                   #\n",
      "                     #    Beginning video measurement    #\n",
      "                     #                                   #\n",
      "                     #####################################\n",
      "\n",
      "                       File:\t../Videos/Particulas.mp4\n",
      "\n",
      "                              Duration:\t0:01:00\n",
      "\n"
     ]
    },
    {
     "name": "stderr",
     "output_type": "stream",
     "text": [
      "1812 frames [06:52,  4.39 frames/s]                                             frames/s]\u001b[0m\n"
     ]
    }
   ],
   "source": [
    "vid = \"../Videos/Particulas.mp4\"\n",
    "ext = \"mp4\"\n",
    "trajectories_df, fps = p_tracker(vid,ext)"
   ]
  },
  {
   "cell_type": "markdown",
   "id": "vocational-arena",
   "metadata": {},
   "source": [
    "Usar la rutina para visualizar las trayectorias de cada partícula"
   ]
  },
  {
   "cell_type": "code",
   "execution_count": 13,
   "id": "necessary-candle",
   "metadata": {},
   "outputs": [
    {
     "ename": "NameError",
     "evalue": "name 'measurement' is not defined",
     "output_type": "error",
     "traceback": [
      "\u001b[1;31m---------------------------------------------------------------------------\u001b[0m",
      "\u001b[1;31mNameError\u001b[0m                                 Traceback (most recent call last)",
      "\u001b[1;32m<ipython-input-13-8744604c9b86>\u001b[0m in \u001b[0;36m<module>\u001b[1;34m\u001b[0m\n\u001b[1;32m----> 1\u001b[1;33m \u001b[0mTrajPlot\u001b[0m\u001b[1;33m(\u001b[0m\u001b[0mtrajectories_df\u001b[0m\u001b[1;33m,\u001b[0m\u001b[0mfps\u001b[0m\u001b[1;33m,\u001b[0m\u001b[0mvid\u001b[0m\u001b[1;33m,\u001b[0m\u001b[0mext\u001b[0m\u001b[1;33m)\u001b[0m\u001b[1;33m\u001b[0m\u001b[1;33m\u001b[0m\u001b[0m\n\u001b[0m",
      "\u001b[1;32mD:\\Documents\\PostDoc\\SLP\\Talleres-Platicas\\VI EIIMFE\\Trayectorias\\TrajectoryPlot.py\u001b[0m in \u001b[0;36mTrajPlot\u001b[1;34m(df, fps, vid, ext)\u001b[0m\n\u001b[0;32m     21\u001b[0m \u001b[1;33m\u001b[0m\u001b[0m\n\u001b[0;32m     22\u001b[0m     \u001b[0mdf\u001b[0m\u001b[1;33m[\u001b[0m\u001b[1;34m'time'\u001b[0m\u001b[1;33m]\u001b[0m \u001b[1;33m=\u001b[0m \u001b[0mdf\u001b[0m\u001b[1;33m.\u001b[0m\u001b[0mframe\u001b[0m\u001b[1;33m/\u001b[0m\u001b[0mfps\u001b[0m\u001b[1;33m\u001b[0m\u001b[1;33m\u001b[0m\u001b[0m\n\u001b[1;32m---> 23\u001b[1;33m \u001b[1;33m\u001b[0m\u001b[0m\n\u001b[0m\u001b[0;32m     24\u001b[0m     \u001b[0mprint\u001b[0m\u001b[1;33m(\u001b[0m\u001b[1;34m'\\n\\tDrawing plots...\\n'\u001b[0m\u001b[1;33m)\u001b[0m\u001b[1;33m\u001b[0m\u001b[1;33m\u001b[0m\u001b[0m\n\u001b[0;32m     25\u001b[0m \u001b[1;33m\u001b[0m\u001b[0m\n",
      "\u001b[1;31mNameError\u001b[0m: name 'measurement' is not defined"
     ]
    }
   ],
   "source": [
    "TrajPlot(trajectories_df,fps,vid,ext)"
   ]
  }
 ],
 "metadata": {
  "kernelspec": {
   "display_name": "Python 3",
   "language": "python",
   "name": "python3"
  },
  "language_info": {
   "codemirror_mode": {
    "name": "ipython",
    "version": 3
   },
   "file_extension": ".py",
   "mimetype": "text/x-python",
   "name": "python",
   "nbconvert_exporter": "python",
   "pygments_lexer": "ipython3",
   "version": "3.9.1"
  }
 },
 "nbformat": 4,
 "nbformat_minor": 5
}
